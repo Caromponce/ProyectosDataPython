{
 "cells": [
  {
   "cell_type": "markdown",
   "metadata": {},
   "source": [
    "# <span style=\"color:cyan\">__Numpy__</span>"
   ]
  },
  {
   "cell_type": "markdown",
   "metadata": {},
   "source": [
    "----"
   ]
  },
  {
   "cell_type": "markdown",
   "metadata": {},
   "source": [
    "<span style=\"color:cyan\">__1 Crea un array Numpy llamado 'array_ventas' a partir del diccionario (descarta lo no necesario), e imprímelo.__</span>."
   ]
  },
  {
   "cell_type": "code",
   "execution_count": 1,
   "metadata": {},
   "outputs": [
    {
     "name": "stdout",
     "output_type": "stream",
     "text": [
      "Se han extraídos los valores del diccionario y \n",
      "fue eliminada la primer fila que contenía los meses,\n",
      "quedando así 4 filas representando cada sucursal con 12 columnas\n",
      "representando los distintos meses del año. \n",
      "\n",
      "[[120000 150000 200000 180000 250000 300000 280000 320000 400000 350000\n",
      "  300000 480000]\n",
      " [ 80000  90000 120000 110000 130000 150000 140000 160000 180000 200000\n",
      "  220000 310000]\n",
      " [200000 220000 250000 270000 300000 320000 280000 330000 350000 400000\n",
      "  380000 460000]\n",
      " [150000 180000 160000 200000 220000 240000 210000 230000 260000 280000\n",
      "  300000 370000]]\n"
     ]
    }
   ],
   "source": [
    "import numpy as np\n",
    "\n",
    "dic = {\n",
    "    \"Mes\":          [\"Enero\",\"Febrero\",\"Marzo\",\"Abril\",\"Mayo\",\"Junio\",\"Julio\",\"Agosto\",\"Septiembre\",\"Octubre\",\"Noviembre\",\"Diciembre\" ],\n",
    "    \"Los_abuelos\":  [120000, 150000, 200000, 180000, 250000, 300000, 280000, 320000, 400000, 350000, 300000, 480000],\n",
    "    \"Los_tios\":     [ 80000,  90000, 120000, 110000, 130000, 150000, 140000, 160000, 180000, 200000, 220000, 310000],\n",
    "    \"Los_padrinos\": [200000, 220000, 250000, 270000, 300000, 320000, 280000, 330000, 350000, 400000, 380000, 460000],\n",
    "    \"Los_viejos\":   [150000, 180000, 160000, 200000, 220000, 240000, 210000, 230000, 260000, 280000, 300000, 370000]\n",
    "}\n",
    "\n",
    "array_ventas_meses = np.array(list(dic.values()))\n",
    "array_ventas = np.delete(array_ventas_meses, 0, axis=0)\n",
    "array_ventas = array_ventas.astype(int)\n",
    "\n",
    "print('''Se han extraídos los valores del diccionario y \n",
    "fue eliminada la primer fila que contenía los meses,\n",
    "quedando así 4 filas representando cada sucursal con 12 columnas\n",
    "representando los distintos meses del año. \\n''')\n",
    "print(array_ventas)"
   ]
  },
  {
   "cell_type": "markdown",
   "metadata": {},
   "source": [
    "----"
   ]
  },
  {
   "cell_type": "markdown",
   "metadata": {},
   "source": [
    "<span style=\"color:cyan\">__2 Imprime la sucursal luego los meses con sus respectivas ventas__</span>."
   ]
  },
  {
   "cell_type": "code",
   "execution_count": 2,
   "metadata": {},
   "outputs": [
    {
     "name": "stdout",
     "output_type": "stream",
     "text": [
      "Sucursal: Los_abuelos\n",
      "Meses Enero|Febrero|Marzo|Abril|Mayo|Junio|Julio|Agosto|Septiembre|Octubre|Noviembre|Diciembre\n",
      "Ventas: 120000|150000|200000|180000|250000|300000|280000|320000|400000|350000|300000|480000\n",
      "\n",
      "Sucursal: Los_tios\n",
      "Meses Enero|Febrero|Marzo|Abril|Mayo|Junio|Julio|Agosto|Septiembre|Octubre|Noviembre|Diciembre\n",
      "Ventas: 80000|90000|120000|110000|130000|150000|140000|160000|180000|200000|220000|310000\n",
      "\n",
      "Sucursal: Los_padrinos\n",
      "Meses Enero|Febrero|Marzo|Abril|Mayo|Junio|Julio|Agosto|Septiembre|Octubre|Noviembre|Diciembre\n",
      "Ventas: 200000|220000|250000|270000|300000|320000|280000|330000|350000|400000|380000|460000\n",
      "\n",
      "Sucursal: Los_viejos\n",
      "Meses Enero|Febrero|Marzo|Abril|Mayo|Junio|Julio|Agosto|Septiembre|Octubre|Noviembre|Diciembre\n",
      "Ventas: 150000|180000|160000|200000|220000|240000|210000|230000|260000|280000|300000|370000\n",
      "\n",
      "Se extrajeron del diccionario las claves para obtener\n",
      "los nombres de las sucursales de las panderias, también se\n",
      "eliminó el primer elemento que correspondía al nombre \"Mes\".\n",
      "Además, a través de un for se recorre el array sucursal para\n",
      "obtener el valor y su índice, para poder imprimir el nombre \n",
      "de la sucursal, los meses a través del array_ventas_meses (que\n",
      "aún contiene meses y ventas) y sus respectivas ventas.\n"
     ]
    }
   ],
   "source": [
    "array_sucursales = np.array(list(dic.keys()))\n",
    "array_sucursales = np.delete(array_sucursales, 0)\n",
    "\n",
    "for index, sucursal in enumerate(array_sucursales):\n",
    "    print(f'Sucursal: {sucursal}')\n",
    "    print(f'Meses {\"|\".join(array_ventas_meses[0])}')\n",
    "    print(f'Ventas: {\"|\".join(array_ventas_meses[index+1])}')\n",
    "    print('')\n",
    "print('''Se extrajeron del diccionario las claves para obtener\n",
    "los nombres de las sucursales de las panderias, también se\n",
    "eliminó el primer elemento que correspondía al nombre \"Mes\".\n",
    "Además, a través de un for se recorre el array sucursal para\n",
    "obtener el valor y su índice, para poder imprimir el nombre \n",
    "de la sucursal, los meses a través del array_ventas_meses (que\n",
    "aún contiene meses y ventas) y sus respectivas ventas.''')"
   ]
  },
  {
   "cell_type": "markdown",
   "metadata": {},
   "source": [
    "----"
   ]
  },
  {
   "cell_type": "markdown",
   "metadata": {},
   "source": [
    "<span style=\"color:cyan\">__3__</span>."
   ]
  },
  {
   "cell_type": "markdown",
   "metadata": {},
   "source": [
    "<span style=\"color:cyan\">__3.1 Calcular la suma por cada mes__</span>."
   ]
  },
  {
   "cell_type": "code",
   "execution_count": 3,
   "metadata": {},
   "outputs": [
    {
     "name": "stdout",
     "output_type": "stream",
     "text": [
      "Suma por mes\n",
      "\n",
      "Significado: La suma indica el total de ventas para cada mes. \n",
      "\n",
      "Información a futuro: Conocer el total de ingresos mensuales es crucial para la\n",
      "planificación financiera y presupuestaria. Puede ayudar a anticipar la demanda de\n",
      "productos y ajustar la producción o la oferta según sea necesario dependiendo de la\n",
      "época del año, temperaturas, costumbres, materias primas y otros aspectos que se\n",
      "modifican en el tiempo.\n",
      "\n",
      "La suma de las ventas del mes Enero es de $550000\n",
      "La suma de las ventas del mes Febrero es de $640000\n",
      "La suma de las ventas del mes Marzo es de $730000\n",
      "La suma de las ventas del mes Abril es de $760000\n",
      "La suma de las ventas del mes Mayo es de $900000\n",
      "La suma de las ventas del mes Junio es de $1010000\n",
      "La suma de las ventas del mes Julio es de $910000\n",
      "La suma de las ventas del mes Agosto es de $1040000\n",
      "La suma de las ventas del mes Septiembre es de $1190000\n",
      "La suma de las ventas del mes Octubre es de $1230000\n",
      "La suma de las ventas del mes Noviembre es de $1200000\n",
      "La suma de las ventas del mes Diciembre es de $1620000\n"
     ]
    }
   ],
   "source": [
    "array_meses = array_ventas_meses[0]\n",
    "ventas_transpuesta = np.transpose(array_ventas).astype(int)\n",
    "\n",
    "suma_ventas_mes = np.sum(ventas_transpuesta, axis=1)\n",
    "\n",
    "print('Suma por mes\\n')\n",
    "print('Significado: La suma indica el total de ventas para cada mes. \\n')\n",
    "print('''Información a futuro: Conocer el total de ingresos mensuales es crucial para la\n",
    "planificación financiera y presupuestaria. Puede ayudar a anticipar la demanda de\n",
    "productos y ajustar la producción o la oferta según sea necesario dependiendo de la\n",
    "época del año, temperaturas, costumbres, materias primas y otros aspectos que se\n",
    "modifican en el tiempo.\\n''')\n",
    "\n",
    "\n",
    "for index, mes in enumerate(dic['Mes']):\n",
    "    print(f'La suma de las ventas del mes {mes} es de ${suma_ventas_mes[index]}')"
   ]
  },
  {
   "cell_type": "markdown",
   "metadata": {},
   "source": [
    "----"
   ]
  },
  {
   "cell_type": "markdown",
   "metadata": {},
   "source": [
    "<span style=\"color:cyan\">__3.2 Calcular la Media por cada mes.__</span>"
   ]
  },
  {
   "cell_type": "code",
   "execution_count": 4,
   "metadata": {},
   "outputs": [
    {
     "name": "stdout",
     "output_type": "stream",
     "text": [
      "Media por cada mes \n",
      "\n",
      "Significado: La media es el promedio de las ventas para cada mes.\n",
      "\n",
      "Información a futuro:La media proporciona el valor promedio de las ventas,\n",
      "útil para establecer metas, identificar tendencias y evaluar la eficacia de estrategias\n",
      "de marketing y ventas según época del año, temperaturas, costumbres, materias\n",
      "primas y otros aspectos que se modifican en el tiempo.\n",
      "\n",
      "La media de las ventas del mes Enero es de $137500.0\n",
      "La media de las ventas del mes Febrero es de $160000.0\n",
      "La media de las ventas del mes Marzo es de $182500.0\n",
      "La media de las ventas del mes Abril es de $190000.0\n",
      "La media de las ventas del mes Mayo es de $225000.0\n",
      "La media de las ventas del mes Junio es de $252500.0\n",
      "La media de las ventas del mes Julio es de $227500.0\n",
      "La media de las ventas del mes Agosto es de $260000.0\n",
      "La media de las ventas del mes Septiembre es de $297500.0\n",
      "La media de las ventas del mes Octubre es de $307500.0\n",
      "La media de las ventas del mes Noviembre es de $300000.0\n",
      "La media de las ventas del mes Diciembre es de $405000.0\n"
     ]
    }
   ],
   "source": [
    "media_ventas_mes = np.mean(ventas_transpuesta, axis=1)\n",
    "\n",
    "print('Media por cada mes \\n')\n",
    "print('''Significado: La media es el promedio de las ventas para cada mes.\\n''')\n",
    "print('''Información a futuro:La media proporciona el valor promedio de las ventas,\n",
    "útil para establecer metas, identificar tendencias y evaluar la eficacia de estrategias\n",
    "de marketing y ventas según época del año, temperaturas, costumbres, materias\n",
    "primas y otros aspectos que se modifican en el tiempo.\\n''')\n",
    "\n",
    "\n",
    "for mes, media in zip(array_meses, media_ventas_mes):\n",
    "    print(f'La media de las ventas del mes {mes} es de ${media}')"
   ]
  },
  {
   "cell_type": "markdown",
   "metadata": {},
   "source": [
    "----"
   ]
  },
  {
   "cell_type": "markdown",
   "metadata": {},
   "source": [
    "<span style=\"color:cyan\">__3.3 Calcular Cuadrados mínimos por cada mes__</span>."
   ]
  },
  {
   "cell_type": "code",
   "execution_count": 5,
   "metadata": {},
   "outputs": [
    {
     "name": "stdout",
     "output_type": "stream",
     "text": [
      "Cuadrados mínimos por mes \n",
      "\n",
      "Significado: Los cuadrados mínimos representan la dispersión de los datos.\n",
      "Conocer la variabilidad en las ventas mensuales ayuda a anticipar posibles\n",
      "fluctuaciones y evaluar la consistencia de las operaciones.\n",
      "\n",
      "Información a futuro:Una mayor dispersión podría indicar una variabilidad en\n",
      "la demanda, lo que podría requerir estrategias específicas de gestión de inventario\n",
      "según época del año, temperaturas, costumbres, materias primas y otros aspectos\n",
      "que se modifican en el tiempo.\n",
      "\n",
      "Los cuadrados mínimos de las ventas del mes Enero es de 50601388888.89\n",
      "Los cuadrados mínimos de las ventas del mes Febrero es de 32368055555.56\n",
      "Los cuadrados mínimos de las ventas del mes Marzo es de 16801388888.89\n",
      "Los cuadrados mínimos de las ventas del mes Abril es de 14751388888.89\n",
      "Los cuadrados mínimos de las ventas del mes Mayo es de 1868055555.56\n",
      "Los cuadrados mínimos de las ventas del mes Junio es de 651388888.89\n",
      "Los cuadrados mínimos de las ventas del mes Julio es de 1968055555.56\n",
      "Los cuadrados mínimos de las ventas del mes Agosto es de 2101388888.89\n",
      "Los cuadrados mínimos de las ventas del mes Septiembre es de 17568055555.56\n",
      "Los cuadrados mínimos de las ventas del mes Octubre es de 16751388888.89\n",
      "Los cuadrados mínimos de las ventas del mes Noviembre es de 13301388888.89\n",
      "Los cuadrados mínimos de las ventas del mes Diciembre es de 104451388888.89\n"
     ]
    }
   ],
   "source": [
    "cuadrados_minimos_mes = np.sum(np.square(ventas_transpuesta - np.mean(ventas_transpuesta, axis=0)), axis=1)\n",
    "cuadrados_minimos_mes = np.round(cuadrados_minimos_mes, 2)\n",
    "print('Cuadrados mínimos por mes \\n')\n",
    "print('''Significado: Los cuadrados mínimos representan la dispersión de los datos.\n",
    "Conocer la variabilidad en las ventas mensuales ayuda a anticipar posibles\n",
    "fluctuaciones y evaluar la consistencia de las operaciones.\\n''')\n",
    "print('''Información a futuro:Una mayor dispersión podría indicar una variabilidad en\n",
    "la demanda, lo que podría requerir estrategias específicas de gestión de inventario\n",
    "según época del año, temperaturas, costumbres, materias primas y otros aspectos\n",
    "que se modifican en el tiempo.\\n''')\n",
    "for mes, cuadrados_minimos in zip(array_meses, cuadrados_minimos_mes):\n",
    "    print(f'Los cuadrados mínimos de las ventas del mes {mes} es de {cuadrados_minimos}')"
   ]
  },
  {
   "cell_type": "markdown",
   "metadata": {},
   "source": [
    "----"
   ]
  },
  {
   "cell_type": "markdown",
   "metadata": {},
   "source": [
    "<span style=\"color:cyan\">__3.4 Calcular la Varianza por cada mes__</span>."
   ]
  },
  {
   "cell_type": "code",
   "execution_count": 6,
   "metadata": {},
   "outputs": [
    {
     "name": "stdout",
     "output_type": "stream",
     "text": [
      "Varianza por cada mes \n",
      "\n",
      "Significado: La varianza mide la dispersión de los datos, similar a los\n",
      "cuadrados mínimos. Una varianza más alta indica una mayor variabilidad en las\n",
      "ventas. Es una medida basada en la misma escala de las ventas\n",
      "pero elevado al cuadrado. Puede ser menos intuitiva de leer que la desviación\n",
      "estándar.\n",
      "\n",
      "Información a futuro: Útil para la gestión de inventario y la planificación de\n",
      "recursos. Una mayor varianza puede sugerir la necesidad de estrategias de marketing\n",
      "específicas para abordar las fluctuaciones según época del año, temperaturas,\n",
      "costumbres, materias primas y otros aspectos que se modifican en el tiempo; nos indica \n",
      "mayores cambios o riesgos. Puede ser importante estar preparados\n",
      "para mitigar tales cambios. \n",
      "\n",
      "La varianza de las ventas del mes Enero es de 1918750000.0\n",
      "La varianza de las ventas del mes Febrero es de 2250000000.0\n",
      "La varianza de las ventas del mes Marzo es de 2318750000.0\n",
      "La varianza de las ventas del mes Abril es de 3250000000.0\n",
      "La varianza de las ventas del mes Mayo es de 3825000000.0\n",
      "La varianza de las ventas del mes Junio es de 4368750000.0\n",
      "La varianza de las ventas del mes Julio es de 3368750000.0\n",
      "La varianza de las ventas del mes Agosto es de 4850000000.0\n",
      "La varianza de las ventas del mes Septiembre es de 7118750000.0\n",
      "La varianza de las ventas del mes Octubre es de 5668750000.0\n",
      "La varianza de las ventas del mes Noviembre es de 3200000000.0\n",
      "La varianza de las ventas del mes Diciembre es de 4725000000.0\n"
     ]
    }
   ],
   "source": [
    "varianza_ventas_mes = np.var(ventas_transpuesta, axis=1)\n",
    "\n",
    "print('Varianza por cada mes \\n')\n",
    "print('''Significado: La varianza mide la dispersión de los datos, similar a los\n",
    "cuadrados mínimos. Una varianza más alta indica una mayor variabilidad en las\n",
    "ventas. Es una medida basada en la misma escala de las ventas\n",
    "pero elevado al cuadrado. Puede ser menos intuitiva de leer que la desviación\n",
    "estándar.\\n''')\n",
    "print('''Información a futuro: Útil para la gestión de inventario y la planificación de\n",
    "recursos. Una mayor varianza puede sugerir la necesidad de estrategias de marketing\n",
    "específicas para abordar las fluctuaciones según época del año, temperaturas,\n",
    "costumbres, materias primas y otros aspectos que se modifican en el tiempo; nos indica \n",
    "mayores cambios o riesgos. Puede ser importante estar preparados\n",
    "para mitigar tales cambios. \\n''')\n",
    "\n",
    "for mes, varianza in zip(array_meses, varianza_ventas_mes):\n",
    "    print(f'La varianza de las ventas del mes {mes} es de {varianza}')"
   ]
  },
  {
   "cell_type": "markdown",
   "metadata": {},
   "source": [
    "----"
   ]
  },
  {
   "cell_type": "markdown",
   "metadata": {},
   "source": [
    "<span style=\"color:cyan\">__3.5 Calcular la Desviación estandar por cada mes__</span>."
   ]
  },
  {
   "cell_type": "code",
   "execution_count": 7,
   "metadata": {},
   "outputs": [
    {
     "name": "stdout",
     "output_type": "stream",
     "text": [
      "Desviación estándar por cada mes \n",
      "\n",
      "Significado: La desviación estándar mide cuánto varían los valores de ventas\n",
      "con respecto a la media. Una desviación estándar más grande sugiere una mayor\n",
      "dispersión de datos, mayor variabilidad, mientras que un valor bajo nos indica\n",
      "mayor estabilidad. \n",
      "Esta medida en comparación con la varianza, es más intuitiva de leer, ya que se\n",
      "expresa en la misma escala que los datos originales.\n",
      "\n",
      "Información a futuro: Conocer la desviación estándar es valioso para\n",
      "establecer niveles de inventario de seguridad y anticipar desafíos en la gestión de la\n",
      "cadena de suministro según época del año, temperaturas, costumbres, materias\n",
      "primas y otros aspectos que se modifican en el tiempo. En el caso de que haya un valor \n",
      "alto de varianza nos indica mayores cambios o riesgos. Puede ser importante estar preparados\n",
      "para mitigar tales cambios. \n",
      "\n",
      "La desviación estandar de las ventas del mes Enero es de 43803.54\n",
      "La desviación estandar de las ventas del mes Febrero es de 47434.16\n",
      "La desviación estandar de las ventas del mes Marzo es de 48153.4\n",
      "La desviación estandar de las ventas del mes Abril es de 57008.77\n",
      "La desviación estandar de las ventas del mes Mayo es de 61846.58\n",
      "La desviación estandar de las ventas del mes Junio es de 66096.52\n",
      "La desviación estandar de las ventas del mes Julio es de 58040.93\n",
      "La desviación estandar de las ventas del mes Agosto es de 69641.94\n",
      "La desviación estandar de las ventas del mes Septiembre es de 84372.69\n",
      "La desviación estandar de las ventas del mes Octubre es de 75291.1\n",
      "La desviación estandar de las ventas del mes Noviembre es de 56568.54\n",
      "La desviación estandar de las ventas del mes Diciembre es de 68738.64\n"
     ]
    }
   ],
   "source": [
    "desviacion_estandar_ventas_mes = np.std(ventas_transpuesta, axis=1)\n",
    "desviacion_estandar_ventas_mes = np.round(desviacion_estandar_ventas_mes, 2)\n",
    "\n",
    "print('Desviación estándar por cada mes \\n')\n",
    "print('''Significado: La desviación estándar mide cuánto varían los valores de ventas\n",
    "con respecto a la media. Una desviación estándar más grande sugiere una mayor\n",
    "dispersión de datos, mayor variabilidad, mientras que un valor bajo nos indica\n",
    "mayor estabilidad. \n",
    "Esta medida en comparación con la varianza, es más intuitiva de leer, ya que se\n",
    "expresa en la misma escala que los datos originales.\\n''')\n",
    "print('''Información a futuro: Conocer la desviación estándar es valioso para\n",
    "establecer niveles de inventario de seguridad y anticipar desafíos en la gestión de la\n",
    "cadena de suministro según época del año, temperaturas, costumbres, materias\n",
    "primas y otros aspectos que se modifican en el tiempo. En el caso de que haya un valor \n",
    "alto de varianza nos indica mayores cambios o riesgos. Puede ser importante estar preparados\n",
    "para mitigar tales cambios. \\n''')\n",
    "for mes, desviacion_estandar in zip(array_meses, desviacion_estandar_ventas_mes):\n",
    "    print(f'La desviación estandar de las ventas del mes {mes} es de {desviacion_estandar}')"
   ]
  },
  {
   "cell_type": "markdown",
   "metadata": {},
   "source": [
    "----"
   ]
  },
  {
   "cell_type": "markdown",
   "metadata": {},
   "source": [
    "<span style=\"color:cyan\">__3.6 Imprimir resultados con enumerate__</span>."
   ]
  },
  {
   "cell_type": "code",
   "execution_count": 8,
   "metadata": {},
   "outputs": [
    {
     "name": "stdout",
     "output_type": "stream",
     "text": [
      "Mes: Enero\n",
      "\t Suma: $550000\n",
      "\t Media: $137500.0\n",
      "\t Cuadrados mínimos: 50601388888.89\n",
      "\t Varianza: 1918750000.0\n",
      "\t Desviación estándar: 43803.54\n",
      "Mes: Febrero\n",
      "\t Suma: $640000\n",
      "\t Media: $160000.0\n",
      "\t Cuadrados mínimos: 32368055555.56\n",
      "\t Varianza: 2250000000.0\n",
      "\t Desviación estándar: 47434.16\n",
      "Mes: Marzo\n",
      "\t Suma: $730000\n",
      "\t Media: $182500.0\n",
      "\t Cuadrados mínimos: 16801388888.89\n",
      "\t Varianza: 2318750000.0\n",
      "\t Desviación estándar: 48153.4\n",
      "Mes: Abril\n",
      "\t Suma: $760000\n",
      "\t Media: $190000.0\n",
      "\t Cuadrados mínimos: 14751388888.89\n",
      "\t Varianza: 3250000000.0\n",
      "\t Desviación estándar: 57008.77\n",
      "Mes: Mayo\n",
      "\t Suma: $900000\n",
      "\t Media: $225000.0\n",
      "\t Cuadrados mínimos: 1868055555.56\n",
      "\t Varianza: 3825000000.0\n",
      "\t Desviación estándar: 61846.58\n",
      "Mes: Junio\n",
      "\t Suma: $1010000\n",
      "\t Media: $252500.0\n",
      "\t Cuadrados mínimos: 651388888.89\n",
      "\t Varianza: 4368750000.0\n",
      "\t Desviación estándar: 66096.52\n",
      "Mes: Julio\n",
      "\t Suma: $910000\n",
      "\t Media: $227500.0\n",
      "\t Cuadrados mínimos: 1968055555.56\n",
      "\t Varianza: 3368750000.0\n",
      "\t Desviación estándar: 58040.93\n",
      "Mes: Agosto\n",
      "\t Suma: $1040000\n",
      "\t Media: $260000.0\n",
      "\t Cuadrados mínimos: 2101388888.89\n",
      "\t Varianza: 4850000000.0\n",
      "\t Desviación estándar: 69641.94\n",
      "Mes: Septiembre\n",
      "\t Suma: $1190000\n",
      "\t Media: $297500.0\n",
      "\t Cuadrados mínimos: 17568055555.56\n",
      "\t Varianza: 7118750000.0\n",
      "\t Desviación estándar: 84372.69\n",
      "Mes: Octubre\n",
      "\t Suma: $1230000\n",
      "\t Media: $307500.0\n",
      "\t Cuadrados mínimos: 16751388888.89\n",
      "\t Varianza: 5668750000.0\n",
      "\t Desviación estándar: 75291.1\n",
      "Mes: Noviembre\n",
      "\t Suma: $1200000\n",
      "\t Media: $300000.0\n",
      "\t Cuadrados mínimos: 13301388888.89\n",
      "\t Varianza: 3200000000.0\n",
      "\t Desviación estándar: 56568.54\n",
      "Mes: Diciembre\n",
      "\t Suma: $1620000\n",
      "\t Media: $405000.0\n",
      "\t Cuadrados mínimos: 104451388888.89\n",
      "\t Varianza: 4725000000.0\n",
      "\t Desviación estándar: 68738.64\n"
     ]
    }
   ],
   "source": [
    "array_meses = array_ventas_meses[0]\n",
    "ventas_transpuesta = np.transpose(array_ventas).astype(int)\n",
    "suma_ventas_mes = np.sum(ventas_transpuesta, axis=1)\n",
    "media_ventas_mes = np.mean(ventas_transpuesta, axis=1)\n",
    "cuadrados_minimos_mes = np.sum(np.square(ventas_transpuesta - np.mean(ventas_transpuesta, axis=0)), axis=1)\n",
    "cuadrados_minimos_mes = np.round(cuadrados_minimos_mes, 2)\n",
    "varianza_ventas_mes = np.var(ventas_transpuesta, axis=1)\n",
    "desviacion_estandar_ventas_mes = np.std(ventas_transpuesta, axis=1)\n",
    "desviacion_estandar_ventas_mes = np.round(desviacion_estandar_ventas_mes, 2)\n",
    "\n",
    "for index, mes in enumerate(dic['Mes']):\n",
    "    print(f\"Mes: {mes}\")\n",
    "    print(f'\\t Suma: ${suma_ventas_mes[index]}')\n",
    "    print(f'\\t Media: ${media_ventas_mes[index]}')\n",
    "    print(f'\\t Cuadrados mínimos: {cuadrados_minimos_mes[index]}')\n",
    "    print(f'\\t Varianza: {varianza_ventas_mes[index]}')\n",
    "    print(f'\\t Desviación estándar: {desviacion_estandar_ventas_mes[index]}')"
   ]
  },
  {
   "cell_type": "markdown",
   "metadata": {},
   "source": [
    "----"
   ]
  },
  {
   "cell_type": "markdown",
   "metadata": {},
   "source": [
    "<span style=\"color:cyan\">__4__</span>."
   ]
  },
  {
   "cell_type": "markdown",
   "metadata": {},
   "source": [
    "<span style=\"color:cyan\">__4.1 Calcula la suma de ventas por cada negocio__</span>."
   ]
  },
  {
   "cell_type": "code",
   "execution_count": 9,
   "metadata": {},
   "outputs": [
    {
     "name": "stdout",
     "output_type": "stream",
     "text": [
      "Suma de ventas por cada negocio\n",
      "\n",
      "Significado: la suma total de ventas por cada sucursal permite evaluar\n",
      "el rendimiento total de cada sucursal a lo largo del año. Nos permite identificar\n",
      "aquellas sucursales que presentan un buen rendimiento, como también aquellas\n",
      "que necesitan un ajuste u otro tipo de estrategias.\n",
      "\n",
      "Información a futuro: Puede ayudar a anticipar la demanda de\n",
      "productos y ajustar la producción o la oferta según sea necesario a la zona o clientes\n",
      "de cada sucursal.\n",
      "\n",
      "La suma de ventas de la sucursal Los_abuelos es de $3330000\n",
      "La suma de ventas de la sucursal Los_tios es de $1890000\n",
      "La suma de ventas de la sucursal Los_padrinos es de $3760000\n",
      "La suma de ventas de la sucursal Los_viejos es de $2800000\n"
     ]
    }
   ],
   "source": [
    "suma_ventas_sucursal = np.sum(array_ventas, axis=1)\n",
    "\n",
    "print('Suma de ventas por cada negocio\\n')\n",
    "print('''Significado: la suma total de ventas por cada sucursal permite evaluar\n",
    "el rendimiento total de cada sucursal a lo largo del año. Nos permite identificar\n",
    "aquellas sucursales que presentan un buen rendimiento, como también aquellas\n",
    "que necesitan un ajuste u otro tipo de estrategias.\\n''')\n",
    "print('''Información a futuro: Puede ayudar a anticipar la demanda de\n",
    "productos y ajustar la producción o la oferta según sea necesario a la zona o clientes\n",
    "de cada sucursal.\\n''')\n",
    "\n",
    "for sucursal, suma in zip(array_sucursales, suma_ventas_sucursal):\n",
    "    print(f'La suma de ventas de la sucursal {sucursal} es de ${suma}')"
   ]
  },
  {
   "cell_type": "markdown",
   "metadata": {},
   "source": [
    "----"
   ]
  },
  {
   "cell_type": "markdown",
   "metadata": {},
   "source": [
    "<span style=\"color:cyan\n",
    "\">__4.2 Calcula la media de ventas por cada negocio__</span>."
   ]
  },
  {
   "cell_type": "code",
   "execution_count": 10,
   "metadata": {},
   "outputs": [
    {
     "name": "stdout",
     "output_type": "stream",
     "text": [
      "Media de ventas por cada negocio\n",
      "\n",
      "Significado: la media es el promedio total de ventas en el año por cada \n",
      "sucursal. Permite evaluar como cada sucursal funcionó a lo largo del año.\n",
      "\n",
      "Información a futuro: permitirá tomar decisiones estratégicas\n",
      "para aquellas sucursales que estén por debajo del promedio. Se puede hacer la suma de esas\n",
      "medias, calcular nuevamente el promedio y obtener un medida que esté como referencia,\n",
      "quienes estén por debajo, necesitarán ciertos ajustes.\n",
      "\n",
      "La suma de ventas de la sucursal Los_abuelos es de $277500.0\n",
      "La suma de ventas de la sucursal Los_tios es de $157500.0\n",
      "La suma de ventas de la sucursal Los_padrinos es de $313333.33\n",
      "La suma de ventas de la sucursal Los_viejos es de $233333.33\n"
     ]
    }
   ],
   "source": [
    "media_ventas_sucursal = np.mean(array_ventas, axis=1)\n",
    "media_ventas_sucursal = np.round(media_ventas_sucursal, 2)\n",
    "\n",
    "print('Media de ventas por cada negocio\\n')\n",
    "print('''Significado: la media es el promedio total de ventas en el año por cada \n",
    "sucursal. Permite evaluar como cada sucursal funcionó a lo largo del año.\\n''')\n",
    "print('''Información a futuro: permitirá tomar decisiones estratégicas\n",
    "para aquellas sucursales que estén por debajo del promedio. Se puede hacer la suma de esas\n",
    "medias, calcular nuevamente el promedio y obtener un medida que esté como referencia,\n",
    "quienes estén por debajo, necesitarán ciertos ajustes.\\n''')\n",
    "\n",
    "for sucursal, media in zip(array_sucursales, media_ventas_sucursal):\n",
    "    print(f'La suma de ventas de la sucursal {sucursal} es de ${media}')"
   ]
  },
  {
   "cell_type": "markdown",
   "metadata": {},
   "source": [
    "----"
   ]
  },
  {
   "cell_type": "markdown",
   "metadata": {},
   "source": [
    "<span style=\"color:cyan\">__4.3 Calcula los cuadrados mínimos de ventas por cada negocio__</span>."
   ]
  },
  {
   "cell_type": "code",
   "execution_count": 11,
   "metadata": {},
   "outputs": [
    {
     "name": "stdout",
     "output_type": "stream",
     "text": [
      "Cuadrados mínimos por sucursal \n",
      "\n",
      "Significado: nos indica como se distibuyen las ventas a lo largo del año, por\n",
      "cada sucursal. Cuanto mayor sea su valor, más fluctuaciones puede haber entre cada sucursal.\n",
      "\n",
      "Información a futuro: puede ser útil para prever futuras ventas, como varían estas\n",
      "por cada sucursal, identificar patrones o comportamientos o ajustar la estrategia comercial\n",
      "de cada sucursal.\n",
      "\n",
      "Los cuadrados mínimos de las ventas del mes Enero es de 27987500000.0\n",
      "Los cuadrados mínimos de las ventas del mes Febrero es de 96487500000.0\n",
      "Los cuadrados mínimos de las ventas del mes Marzo es de 57037500000.0\n",
      "Los cuadrados mínimos de las ventas del mes Abril es de 5937500000.0\n"
     ]
    }
   ],
   "source": [
    "cuadrados_minimos_sucursal = np.sum(np.square(array_ventas - np.mean(array_ventas, axis=0)), axis=1)\n",
    "\n",
    "print('Cuadrados mínimos por sucursal \\n')\n",
    "print('''Significado: nos indica como se distibuyen las ventas a lo largo del año, por\n",
    "cada sucursal. Cuanto mayor sea su valor, más fluctuaciones puede haber entre cada sucursal.\\n''')\n",
    "print('''Información a futuro: puede ser útil para prever futuras ventas, como varían estas\n",
    "por cada sucursal, identificar patrones o comportamientos o ajustar la estrategia comercial\n",
    "de cada sucursal.\\n''')\n",
    "for mes, cuadrados_minimos in zip(array_meses, cuadrados_minimos_sucursal):\n",
    "    print(f'Los cuadrados mínimos de las ventas del mes {mes} es de {cuadrados_minimos}')"
   ]
  },
  {
   "cell_type": "markdown",
   "metadata": {},
   "source": [
    "----"
   ]
  },
  {
   "cell_type": "markdown",
   "metadata": {},
   "source": [
    "<span style=\"color:cyan\">__4.4 Calcula la varianza de ventas por cada negocio__</span>."
   ]
  },
  {
   "cell_type": "code",
   "execution_count": 12,
   "metadata": {},
   "outputs": [
    {
     "name": "stdout",
     "output_type": "stream",
     "text": [
      "Varianza de ventas por cada sucursal \n",
      "\n",
      "Significado: La varianza mide cuánto se desvían las ventas de las distintas\n",
      "sucursales a la media de las mismas. Que nos de un valor alto nos indica \n",
      "mayor variabilidad, mientras que un valor bajo nos indica mayor estabilidad. \n",
      "Es una medida basada en la misma escala de las ventas pero elevado al cuadrado. \n",
      "Puede ser menos intuitiva de leer que la desviación estándar.\n",
      "\n",
      "Información a futuro: en el caso de que haya un valor alto de varianza\n",
      "nos indica mayores cambios o riesgos a lo largo del año. Esto se puede dar por cambios\n",
      "en las economía o eventos que afecten a las ventas. Puede ser importante para estar \n",
      "preparados y mitigar tales cambios. \n",
      "\n",
      "La varianza de ventas de la sucursal Los_abuelos es de 10118750000.0\n",
      "La varianza de ventas de la sucursal Los_tios es de 3735416666.67\n",
      "La varianza de ventas de la sucursal Los_padrinos es de 5322222222.22\n",
      "La varianza de ventas de la sucursal Los_viejos es de 3588888888.89\n"
     ]
    }
   ],
   "source": [
    "varianza_ventas_sucursal = np.var(array_ventas, axis=1)\n",
    "varianza_ventas_sucursal = np.round(varianza_ventas_sucursal, 2)\n",
    "\n",
    "\n",
    "print('Varianza de ventas por cada sucursal \\n')\n",
    "print('''Significado: La varianza mide cuánto se desvían las ventas de las distintas\n",
    "sucursales a la media de las mismas. Que nos de un valor alto nos indica \n",
    "mayor variabilidad, mientras que un valor bajo nos indica mayor estabilidad. \n",
    "Es una medida basada en la misma escala de las ventas pero elevado al cuadrado. \n",
    "Puede ser menos intuitiva de leer que la desviación estándar.\\n''')\n",
    "print('''Información a futuro: en el caso de que haya un valor alto de varianza\n",
    "nos indica mayores cambios o riesgos a lo largo del año. Esto se puede dar por cambios\n",
    "en las economía o eventos que afecten a las ventas. Puede ser importante para estar \n",
    "preparados y mitigar tales cambios. \\n''')\n",
    "\n",
    "for sucursal, varianza in zip(array_sucursales, varianza_ventas_sucursal):\n",
    "    print(f'La varianza de ventas de la sucursal {sucursal} es de {varianza}')"
   ]
  },
  {
   "cell_type": "markdown",
   "metadata": {},
   "source": [
    "----"
   ]
  },
  {
   "cell_type": "markdown",
   "metadata": {},
   "source": [
    "<span style=\"color:cyan\">__4.5 Calcula la desviación estándar de ventas por cada negocio__</span>."
   ]
  },
  {
   "cell_type": "code",
   "execution_count": 13,
   "metadata": {},
   "outputs": [
    {
     "name": "stdout",
     "output_type": "stream",
     "text": [
      "Desviación estándar por cada sucursal \n",
      "\n",
      "Significado: La desviación estándar mide cuánto se desvían las ventas de las\n",
      "sucursales a la media de las mismas por año. Que nos de un valor alto nos indica \n",
      "mayor variabilidad, mientras que un valor bajo nos indica\n",
      "mayor estabilidad. \n",
      "Esta medida en comparación con la varianza, es más intuitiva de leer, ya que se\n",
      "expresa en la misma escala que los datos originales.\n",
      "\n",
      "Información a futuro: en el caso de que haya un valor alto de varianza\n",
      "nos indica mayores cambios o riesgos. Se puede dar por cambios\n",
      "en la economía o eventos que afecten a las ventas. Puede ser importante para estar preparados\n",
      "y mitigar tales cambios. \n",
      "\n",
      "La desviación estándar de ventas de la sucursal Los_abuelos es de 100592.0\n",
      "La desviación estándar de ventas de la sucursal Los_tios es de 61118.06\n",
      "La desviación estándar de ventas de la sucursal Los_padrinos es de 72953.56\n",
      "La desviación estándar de ventas de la sucursal Los_viejos es de 59907.34\n"
     ]
    }
   ],
   "source": [
    "desviacion_estandar_ventas_sucursal = np.std(array_ventas, axis=1)\n",
    "desviacion_estandar_ventas_sucursal = np.round(desviacion_estandar_ventas_sucursal, 2)\n",
    "\n",
    "print('Desviación estándar por cada sucursal \\n')\n",
    "print('''Significado: La desviación estándar mide cuánto se desvían las ventas de las\n",
    "sucursales a la media de las mismas por año. Que nos de un valor alto nos indica \n",
    "mayor variabilidad, mientras que un valor bajo nos indica\n",
    "mayor estabilidad. \n",
    "Esta medida en comparación con la varianza, es más intuitiva de leer, ya que se\n",
    "expresa en la misma escala que los datos originales.\\n''')\n",
    "print('''Información a futuro: en el caso de que haya un valor alto de varianza\n",
    "nos indica mayores cambios o riesgos. Se puede dar por cambios\n",
    "en la economía o eventos que afecten a las ventas. Puede ser importante para estar preparados\n",
    "y mitigar tales cambios. \\n''')\n",
    "\n",
    "\n",
    "for sucursal, desviacion_estandar in zip(array_sucursales, desviacion_estandar_ventas_sucursal):\n",
    "    print(f'La desviación estándar de ventas de la sucursal {sucursal} es de {desviacion_estandar}')"
   ]
  },
  {
   "cell_type": "markdown",
   "metadata": {},
   "source": [
    "----"
   ]
  },
  {
   "cell_type": "markdown",
   "metadata": {},
   "source": [
    "<span style=\"color:cyan\">__4.6 Imprimir resultados con enumerate__</span>."
   ]
  },
  {
   "cell_type": "code",
   "execution_count": 14,
   "metadata": {},
   "outputs": [
    {
     "name": "stdout",
     "output_type": "stream",
     "text": [
      "Negocio: Los_abuelos\n",
      "\t Suma: $3330000\n",
      "\t Media: $277500.0\n",
      "\t Cuadrados mínimos: 27987500000.0\n",
      "\t Varianza: 10118750000.0\n",
      "\t Desviación estándar: 100592.0\n",
      "Negocio: Los_tios\n",
      "\t Suma: $1890000\n",
      "\t Media: $157500.0\n",
      "\t Cuadrados mínimos: 96487500000.0\n",
      "\t Varianza: 3735416666.67\n",
      "\t Desviación estándar: 61118.06\n",
      "Negocio: Los_padrinos\n",
      "\t Suma: $3760000\n",
      "\t Media: $313333.33\n",
      "\t Cuadrados mínimos: 57037500000.0\n",
      "\t Varianza: 5322222222.22\n",
      "\t Desviación estándar: 72953.56\n",
      "Negocio: Los_viejos\n",
      "\t Suma: $2800000\n",
      "\t Media: $233333.33\n",
      "\t Cuadrados mínimos: 5937500000.0\n",
      "\t Varianza: 3588888888.89\n",
      "\t Desviación estándar: 59907.34\n"
     ]
    }
   ],
   "source": [
    "suma_ventas_sucursal = np.sum(array_ventas, axis=1)\n",
    "media_ventas_sucursal = np.mean(array_ventas, axis=1)\n",
    "media_ventas_sucursal = np.round(media_ventas_sucursal, 2)\n",
    "cuadrados_minimos_sucursal = np.sum(np.square(array_ventas - np.mean(array_ventas, axis=0)), axis=1)\n",
    "varianza_ventas_sucursal = np.var(array_ventas, axis=1)\n",
    "varianza_ventas_sucursal = np.round(varianza_ventas_sucursal, 2)\n",
    "desviacion_estandar_ventas_sucursal = np.std(array_ventas, axis=1)\n",
    "desviacion_estandar_ventas_sucursal = np.round(desviacion_estandar_ventas_sucursal, 2)\n",
    "\n",
    "for index, sucursal in enumerate(dic.keys()):\n",
    "    if sucursal != \"Mes\":\n",
    "        print(f\"Negocio: {sucursal}\")\n",
    "        print(f'\\t Suma: ${suma_ventas_sucursal[index-1]}')\n",
    "        print(f'\\t Media: ${media_ventas_sucursal[index-1]}')\n",
    "        print(f'\\t Cuadrados mínimos: {cuadrados_minimos_sucursal[index-1]}')\n",
    "        print(f'\\t Varianza: {varianza_ventas_sucursal[index-1]}')\n",
    "        print(f'\\t Desviación estándar: {desviacion_estandar_ventas_sucursal[index-1]}')"
   ]
  },
  {
   "cell_type": "markdown",
   "metadata": {},
   "source": [
    "----"
   ]
  },
  {
   "cell_type": "markdown",
   "metadata": {},
   "source": [
    "<span style=\"color:cyan\">__5__</span>."
   ]
  },
  {
   "cell_type": "markdown",
   "metadata": {},
   "source": [
    "<span style=\"color:cyan\">__5.1 Calcula la sucursal que mas se vende.__</span>."
   ]
  },
  {
   "cell_type": "code",
   "execution_count": 15,
   "metadata": {},
   "outputs": [
    {
     "name": "stdout",
     "output_type": "stream",
     "text": [
      "La sucursal que mas vende es Los_padrinos con un total de ventas de $3760000\n"
     ]
    }
   ],
   "source": [
    "indice_maximo_sucursal = np.argmax(suma_ventas_sucursal)\n",
    "print(f'La sucursal que mas vende es {array_sucursales[indice_maximo_sucursal]} con un total de ventas de ${suma_ventas_sucursal[indice_maximo_sucursal]}')"
   ]
  },
  {
   "cell_type": "markdown",
   "metadata": {},
   "source": [
    "----"
   ]
  },
  {
   "cell_type": "markdown",
   "metadata": {},
   "source": [
    "<span style=\"color:cyan\">__5.2 Calcula el mes que mas se vende. Explica a tu entender el motivo__</span>."
   ]
  },
  {
   "cell_type": "code",
   "execution_count": 16,
   "metadata": {},
   "outputs": [
    {
     "name": "stdout",
     "output_type": "stream",
     "text": [
      "El mes que más se vende es Diciembre con $1620000\n",
      "La razón por la cual hay más ventas en el mes de diciembre puede ser por el gran\n",
      "consumo de panificados, postres, pan dulces que son propios de las fiestas de navidad\n",
      "y año nuevo.\n"
     ]
    }
   ],
   "source": [
    "indice_maximo_ventas = np.argmax(suma_ventas_mes)\n",
    "print(f'El mes que más se vende es {array_meses[indice_maximo_ventas]} con ${suma_ventas_mes[indice_maximo_ventas]}')\n",
    "print('''La razón por la cual hay más ventas en el mes de diciembre puede ser por el gran\n",
    "consumo de panificados, postres, pan dulces que son propios de las fiestas de navidad\n",
    "y año nuevo.''')"
   ]
  },
  {
   "cell_type": "markdown",
   "metadata": {},
   "source": [
    "----"
   ]
  },
  {
   "cell_type": "markdown",
   "metadata": {},
   "source": [
    "# <span style=\"color:cyan\">__Pandas__</span>"
   ]
  },
  {
   "cell_type": "markdown",
   "metadata": {},
   "source": [
    "----"
   ]
  },
  {
   "cell_type": "markdown",
   "metadata": {},
   "source": [
    "<span style=\"color:cyan\">__Carga de Datos:__</span>"
   ]
  },
  {
   "cell_type": "markdown",
   "metadata": {},
   "source": [
    "<span style=\"color:cyan\">__7.1 Carga el conjunto de datos desde el archivo CSV (ventas.csv) en un DataFrame de Pandas.  \n",
    "Muestra las primeras filas del DataFrame para explorar la estructura de los datos__</span>."
   ]
  },
  {
   "cell_type": "code",
   "execution_count": 17,
   "metadata": {},
   "outputs": [
    {
     "data": {
      "text/html": [
       "<div>\n",
       "<style scoped>\n",
       "    .dataframe tbody tr th:only-of-type {\n",
       "        vertical-align: middle;\n",
       "    }\n",
       "\n",
       "    .dataframe tbody tr th {\n",
       "        vertical-align: top;\n",
       "    }\n",
       "\n",
       "    .dataframe thead th {\n",
       "        text-align: right;\n",
       "    }\n",
       "</style>\n",
       "<table border=\"1\" class=\"dataframe\">\n",
       "  <thead>\n",
       "    <tr style=\"text-align: right;\">\n",
       "      <th></th>\n",
       "      <th>Fecha</th>\n",
       "      <th>Empresa</th>\n",
       "      <th>Producto</th>\n",
       "      <th>Cantidad</th>\n",
       "      <th>Precio_Unitario</th>\n",
       "    </tr>\n",
       "  </thead>\n",
       "  <tbody>\n",
       "    <tr>\n",
       "      <th>0</th>\n",
       "      <td>2024-11-23</td>\n",
       "      <td>Apple</td>\n",
       "      <td>Laptop</td>\n",
       "      <td>3710</td>\n",
       "      <td>1468.911929</td>\n",
       "    </tr>\n",
       "    <tr>\n",
       "      <th>1</th>\n",
       "      <td>2024-02-27</td>\n",
       "      <td>Microsoft</td>\n",
       "      <td>Servidor</td>\n",
       "      <td>7458</td>\n",
       "      <td>3935.723581</td>\n",
       "    </tr>\n",
       "    <tr>\n",
       "      <th>2</th>\n",
       "      <td>2024-01-13</td>\n",
       "      <td>Amazon</td>\n",
       "      <td>Laptop</td>\n",
       "      <td>9753</td>\n",
       "      <td>959.946244</td>\n",
       "    </tr>\n",
       "    <tr>\n",
       "      <th>3</th>\n",
       "      <td>2024-05-20</td>\n",
       "      <td>Alphabet</td>\n",
       "      <td>Laptop</td>\n",
       "      <td>4656</td>\n",
       "      <td>2209.672853</td>\n",
       "    </tr>\n",
       "    <tr>\n",
       "      <th>4</th>\n",
       "      <td>2024-05-05</td>\n",
       "      <td>Facebook</td>\n",
       "      <td>Laptop</td>\n",
       "      <td>205</td>\n",
       "      <td>2115.407212</td>\n",
       "    </tr>\n",
       "  </tbody>\n",
       "</table>\n",
       "</div>"
      ],
      "text/plain": [
       "       Fecha    Empresa  Producto  Cantidad  Precio_Unitario\n",
       "0 2024-11-23      Apple    Laptop      3710      1468.911929\n",
       "1 2024-02-27  Microsoft  Servidor      7458      3935.723581\n",
       "2 2024-01-13     Amazon    Laptop      9753       959.946244\n",
       "3 2024-05-20   Alphabet    Laptop      4656      2209.672853\n",
       "4 2024-05-05   Facebook    Laptop       205      2115.407212"
      ]
     },
     "execution_count": 17,
     "metadata": {},
     "output_type": "execute_result"
    }
   ],
   "source": [
    "import pandas as pd\n",
    "import random\n",
    "\n",
    "empresas_tecnologicas = [\"Apple\", \"Microsoft\", \"Amazon\", \"Alphabet\", \"Facebook\", \"Tesla\", \"NVIDIA\", \"Intel\", \"Adobe\", \"IBM\"]\n",
    "random.seed(42)  # Para reproducibilidad\n",
    "fechas = pd.date_range(start=\"2024-01-01\", end=\"2024-12-31\", freq=\"D\")\n",
    "datos_ventas = {\n",
    "    \"Fecha\": [random.choice(fechas) for _ in range(len(empresas_tecnologicas))],\n",
    "    \"Empresa\": [empresas_tecnologicas[index] for index in range(len(empresas_tecnologicas))],\n",
    "    \"Producto\": [random.choice([\"Laptop\", \"Teléfono\", \"Software\", \"Servidor\"]) for _ in range(len(empresas_tecnologicas))],\n",
    "    \"Cantidad\": [random.randint(99, 9999) for _ in range(len(empresas_tecnologicas))],\n",
    "    \"Precio_Unitario\": [random.uniform(500, 5000) for _ in range(len(empresas_tecnologicas))]\n",
    "}\n",
    "df_ventas = pd.DataFrame(datos_ventas)\n",
    "df_ventas.head()"
   ]
  },
  {
   "cell_type": "markdown",
   "metadata": {},
   "source": [
    "----"
   ]
  },
  {
   "cell_type": "markdown",
   "metadata": {},
   "source": [
    "<span style=\"color:cyan\">__Exploración Inicial:__</span>  "
   ]
  },
  {
   "cell_type": "markdown",
   "metadata": {},
   "source": [
    "<span style=\"color:cyan\">__7.2.A Calcula y muestra la cantidad total de registros en el conjunto de datos.__</span>"
   ]
  },
  {
   "cell_type": "code",
   "execution_count": 18,
   "metadata": {},
   "outputs": [
    {
     "name": "stdout",
     "output_type": "stream",
     "text": [
      "El conjunto de datos tiene 10 registros en total.\n"
     ]
    }
   ],
   "source": [
    "print(f'El conjunto de datos tiene {df_ventas.shape[0]} registros en total.')"
   ]
  },
  {
   "cell_type": "markdown",
   "metadata": {},
   "source": [
    "---"
   ]
  },
  {
   "cell_type": "markdown",
   "metadata": {},
   "source": [
    "<span style=\"color:cyan\">__7.2.B Identifica y muestra los tipos de datos de cada columna__</span>"
   ]
  },
  {
   "cell_type": "code",
   "execution_count": 19,
   "metadata": {},
   "outputs": [
    {
     "name": "stdout",
     "output_type": "stream",
     "text": [
      "Los tipos de datos de cada columna para este conjunto de datos son:\n"
     ]
    },
    {
     "data": {
      "text/plain": [
       "Fecha              datetime64[ns]\n",
       "Empresa                    object\n",
       "Producto                   object\n",
       "Cantidad                    int64\n",
       "Precio_Unitario           float64\n",
       "dtype: object"
      ]
     },
     "execution_count": 19,
     "metadata": {},
     "output_type": "execute_result"
    }
   ],
   "source": [
    "print('Los tipos de datos de cada columna para este conjunto de datos son:')\n",
    "df_ventas.dtypes"
   ]
  },
  {
   "cell_type": "markdown",
   "metadata": {},
   "source": [
    "----"
   ]
  },
  {
   "cell_type": "markdown",
   "metadata": {},
   "source": [
    "<span style=\"color:cyan\">__7.2.C Verifica si hay valores nulos en el conjunto de datos.__</span>"
   ]
  },
  {
   "cell_type": "code",
   "execution_count": 20,
   "metadata": {},
   "outputs": [
    {
     "name": "stdout",
     "output_type": "stream",
     "text": [
      "Valores nulos en el conjunto de datos:\n",
      "Fecha              False\n",
      "Empresa            False\n",
      "Producto           False\n",
      "Cantidad           False\n",
      "Precio_Unitario    False\n",
      "dtype: bool\n"
     ]
    }
   ],
   "source": [
    "valores_null = df_ventas.isnull().any()\n",
    "print('Valores nulos en el conjunto de datos:')\n",
    "print(valores_null)"
   ]
  },
  {
   "cell_type": "markdown",
   "metadata": {},
   "source": [
    "----"
   ]
  },
  {
   "cell_type": "markdown",
   "metadata": {},
   "source": [
    "<span style=\"color:cyan\">__Análisis Temporal:__</span>\n"
   ]
  },
  {
   "cell_type": "markdown",
   "metadata": {},
   "source": [
    "<span style=\"color:cyan\">__7.3.A Convierte la columna Fecha al tipo de dato datetime.__</span>\n"
   ]
  },
  {
   "cell_type": "code",
   "execution_count": 21,
   "metadata": {},
   "outputs": [
    {
     "data": {
      "text/html": [
       "<div>\n",
       "<style scoped>\n",
       "    .dataframe tbody tr th:only-of-type {\n",
       "        vertical-align: middle;\n",
       "    }\n",
       "\n",
       "    .dataframe tbody tr th {\n",
       "        vertical-align: top;\n",
       "    }\n",
       "\n",
       "    .dataframe thead th {\n",
       "        text-align: right;\n",
       "    }\n",
       "</style>\n",
       "<table border=\"1\" class=\"dataframe\">\n",
       "  <thead>\n",
       "    <tr style=\"text-align: right;\">\n",
       "      <th></th>\n",
       "      <th>Fecha</th>\n",
       "      <th>Empresa</th>\n",
       "      <th>Producto</th>\n",
       "      <th>Cantidad</th>\n",
       "      <th>Precio_Unitario</th>\n",
       "    </tr>\n",
       "  </thead>\n",
       "  <tbody>\n",
       "    <tr>\n",
       "      <th>0</th>\n",
       "      <td>2024-11-23</td>\n",
       "      <td>Apple</td>\n",
       "      <td>Laptop</td>\n",
       "      <td>3710</td>\n",
       "      <td>1468.911929</td>\n",
       "    </tr>\n",
       "    <tr>\n",
       "      <th>1</th>\n",
       "      <td>2024-02-27</td>\n",
       "      <td>Microsoft</td>\n",
       "      <td>Servidor</td>\n",
       "      <td>7458</td>\n",
       "      <td>3935.723581</td>\n",
       "    </tr>\n",
       "    <tr>\n",
       "      <th>2</th>\n",
       "      <td>2024-01-13</td>\n",
       "      <td>Amazon</td>\n",
       "      <td>Laptop</td>\n",
       "      <td>9753</td>\n",
       "      <td>959.946244</td>\n",
       "    </tr>\n",
       "    <tr>\n",
       "      <th>3</th>\n",
       "      <td>2024-05-20</td>\n",
       "      <td>Alphabet</td>\n",
       "      <td>Laptop</td>\n",
       "      <td>4656</td>\n",
       "      <td>2209.672853</td>\n",
       "    </tr>\n",
       "    <tr>\n",
       "      <th>4</th>\n",
       "      <td>2024-05-05</td>\n",
       "      <td>Facebook</td>\n",
       "      <td>Laptop</td>\n",
       "      <td>205</td>\n",
       "      <td>2115.407212</td>\n",
       "    </tr>\n",
       "    <tr>\n",
       "      <th>5</th>\n",
       "      <td>2024-04-24</td>\n",
       "      <td>Tesla</td>\n",
       "      <td>Teléfono</td>\n",
       "      <td>2714</td>\n",
       "      <td>2047.800751</td>\n",
       "    </tr>\n",
       "    <tr>\n",
       "      <th>6</th>\n",
       "      <td>2024-03-12</td>\n",
       "      <td>NVIDIA</td>\n",
       "      <td>Teléfono</td>\n",
       "      <td>7023</td>\n",
       "      <td>1690.343902</td>\n",
       "    </tr>\n",
       "    <tr>\n",
       "      <th>7</th>\n",
       "      <td>2024-02-22</td>\n",
       "      <td>Intel</td>\n",
       "      <td>Laptop</td>\n",
       "      <td>5673</td>\n",
       "      <td>695.526993</td>\n",
       "    </tr>\n",
       "    <tr>\n",
       "      <th>8</th>\n",
       "      <td>2024-12-12</td>\n",
       "      <td>Adobe</td>\n",
       "      <td>Teléfono</td>\n",
       "      <td>4651</td>\n",
       "      <td>2567.411959</td>\n",
       "    </tr>\n",
       "    <tr>\n",
       "      <th>9</th>\n",
       "      <td>2024-10-06</td>\n",
       "      <td>IBM</td>\n",
       "      <td>Servidor</td>\n",
       "      <td>2646</td>\n",
       "      <td>1061.717733</td>\n",
       "    </tr>\n",
       "  </tbody>\n",
       "</table>\n",
       "</div>"
      ],
      "text/plain": [
       "       Fecha    Empresa  Producto  Cantidad  Precio_Unitario\n",
       "0 2024-11-23      Apple    Laptop      3710      1468.911929\n",
       "1 2024-02-27  Microsoft  Servidor      7458      3935.723581\n",
       "2 2024-01-13     Amazon    Laptop      9753       959.946244\n",
       "3 2024-05-20   Alphabet    Laptop      4656      2209.672853\n",
       "4 2024-05-05   Facebook    Laptop       205      2115.407212\n",
       "5 2024-04-24      Tesla  Teléfono      2714      2047.800751\n",
       "6 2024-03-12     NVIDIA  Teléfono      7023      1690.343902\n",
       "7 2024-02-22      Intel    Laptop      5673       695.526993\n",
       "8 2024-12-12      Adobe  Teléfono      4651      2567.411959\n",
       "9 2024-10-06        IBM  Servidor      2646      1061.717733"
      ]
     },
     "execution_count": 21,
     "metadata": {},
     "output_type": "execute_result"
    }
   ],
   "source": [
    "df_ventas['Fecha'] = pd.to_datetime(df_ventas['Fecha'])\n",
    "df_ventas"
   ]
  },
  {
   "cell_type": "markdown",
   "metadata": {},
   "source": [
    "----"
   ]
  },
  {
   "cell_type": "markdown",
   "metadata": {},
   "source": [
    "<span style=\"color:cyan\n",
    "\">__7.3.B  Crea una nueva columna llamada Año que contenga el año de cada transacción__</span>\n"
   ]
  },
  {
   "cell_type": "code",
   "execution_count": 22,
   "metadata": {},
   "outputs": [
    {
     "data": {
      "text/html": [
       "<div>\n",
       "<style scoped>\n",
       "    .dataframe tbody tr th:only-of-type {\n",
       "        vertical-align: middle;\n",
       "    }\n",
       "\n",
       "    .dataframe tbody tr th {\n",
       "        vertical-align: top;\n",
       "    }\n",
       "\n",
       "    .dataframe thead th {\n",
       "        text-align: right;\n",
       "    }\n",
       "</style>\n",
       "<table border=\"1\" class=\"dataframe\">\n",
       "  <thead>\n",
       "    <tr style=\"text-align: right;\">\n",
       "      <th></th>\n",
       "      <th>Fecha</th>\n",
       "      <th>Empresa</th>\n",
       "      <th>Producto</th>\n",
       "      <th>Cantidad</th>\n",
       "      <th>Precio_Unitario</th>\n",
       "      <th>Año</th>\n",
       "    </tr>\n",
       "  </thead>\n",
       "  <tbody>\n",
       "    <tr>\n",
       "      <th>0</th>\n",
       "      <td>2024-11-23</td>\n",
       "      <td>Apple</td>\n",
       "      <td>Laptop</td>\n",
       "      <td>3710</td>\n",
       "      <td>1468.911929</td>\n",
       "      <td>2024</td>\n",
       "    </tr>\n",
       "    <tr>\n",
       "      <th>1</th>\n",
       "      <td>2024-02-27</td>\n",
       "      <td>Microsoft</td>\n",
       "      <td>Servidor</td>\n",
       "      <td>7458</td>\n",
       "      <td>3935.723581</td>\n",
       "      <td>2024</td>\n",
       "    </tr>\n",
       "    <tr>\n",
       "      <th>2</th>\n",
       "      <td>2024-01-13</td>\n",
       "      <td>Amazon</td>\n",
       "      <td>Laptop</td>\n",
       "      <td>9753</td>\n",
       "      <td>959.946244</td>\n",
       "      <td>2024</td>\n",
       "    </tr>\n",
       "    <tr>\n",
       "      <th>3</th>\n",
       "      <td>2024-05-20</td>\n",
       "      <td>Alphabet</td>\n",
       "      <td>Laptop</td>\n",
       "      <td>4656</td>\n",
       "      <td>2209.672853</td>\n",
       "      <td>2024</td>\n",
       "    </tr>\n",
       "    <tr>\n",
       "      <th>4</th>\n",
       "      <td>2024-05-05</td>\n",
       "      <td>Facebook</td>\n",
       "      <td>Laptop</td>\n",
       "      <td>205</td>\n",
       "      <td>2115.407212</td>\n",
       "      <td>2024</td>\n",
       "    </tr>\n",
       "    <tr>\n",
       "      <th>5</th>\n",
       "      <td>2024-04-24</td>\n",
       "      <td>Tesla</td>\n",
       "      <td>Teléfono</td>\n",
       "      <td>2714</td>\n",
       "      <td>2047.800751</td>\n",
       "      <td>2024</td>\n",
       "    </tr>\n",
       "    <tr>\n",
       "      <th>6</th>\n",
       "      <td>2024-03-12</td>\n",
       "      <td>NVIDIA</td>\n",
       "      <td>Teléfono</td>\n",
       "      <td>7023</td>\n",
       "      <td>1690.343902</td>\n",
       "      <td>2024</td>\n",
       "    </tr>\n",
       "    <tr>\n",
       "      <th>7</th>\n",
       "      <td>2024-02-22</td>\n",
       "      <td>Intel</td>\n",
       "      <td>Laptop</td>\n",
       "      <td>5673</td>\n",
       "      <td>695.526993</td>\n",
       "      <td>2024</td>\n",
       "    </tr>\n",
       "    <tr>\n",
       "      <th>8</th>\n",
       "      <td>2024-12-12</td>\n",
       "      <td>Adobe</td>\n",
       "      <td>Teléfono</td>\n",
       "      <td>4651</td>\n",
       "      <td>2567.411959</td>\n",
       "      <td>2024</td>\n",
       "    </tr>\n",
       "    <tr>\n",
       "      <th>9</th>\n",
       "      <td>2024-10-06</td>\n",
       "      <td>IBM</td>\n",
       "      <td>Servidor</td>\n",
       "      <td>2646</td>\n",
       "      <td>1061.717733</td>\n",
       "      <td>2024</td>\n",
       "    </tr>\n",
       "  </tbody>\n",
       "</table>\n",
       "</div>"
      ],
      "text/plain": [
       "       Fecha    Empresa  Producto  Cantidad  Precio_Unitario   Año\n",
       "0 2024-11-23      Apple    Laptop      3710      1468.911929  2024\n",
       "1 2024-02-27  Microsoft  Servidor      7458      3935.723581  2024\n",
       "2 2024-01-13     Amazon    Laptop      9753       959.946244  2024\n",
       "3 2024-05-20   Alphabet    Laptop      4656      2209.672853  2024\n",
       "4 2024-05-05   Facebook    Laptop       205      2115.407212  2024\n",
       "5 2024-04-24      Tesla  Teléfono      2714      2047.800751  2024\n",
       "6 2024-03-12     NVIDIA  Teléfono      7023      1690.343902  2024\n",
       "7 2024-02-22      Intel    Laptop      5673       695.526993  2024\n",
       "8 2024-12-12      Adobe  Teléfono      4651      2567.411959  2024\n",
       "9 2024-10-06        IBM  Servidor      2646      1061.717733  2024"
      ]
     },
     "execution_count": 22,
     "metadata": {},
     "output_type": "execute_result"
    }
   ],
   "source": [
    "df_ventas['Año']= df_ventas['Fecha'].dt.year\n",
    "df_ventas"
   ]
  },
  {
   "cell_type": "markdown",
   "metadata": {},
   "source": [
    "----"
   ]
  },
  {
   "cell_type": "markdown",
   "metadata": {},
   "source": [
    "<span style=\"color:cyan\">__7.3.C Muestra la cantidad total de transacciones para cada año.__</span>\n"
   ]
  },
  {
   "cell_type": "code",
   "execution_count": 23,
   "metadata": {},
   "outputs": [
    {
     "name": "stdout",
     "output_type": "stream",
     "text": [
      "Cantidad total de transacciones al año son:\n"
     ]
    },
    {
     "data": {
      "text/plain": [
       "Año\n",
       "2024    10\n",
       "Name: count, dtype: int64"
      ]
     },
     "execution_count": 23,
     "metadata": {},
     "output_type": "execute_result"
    }
   ],
   "source": [
    "cantidad_total_transacciones_año = df_ventas['Año'].value_counts()\n",
    "print('Cantidad total de transacciones al año son:')\n",
    "cantidad_total_transacciones_año"
   ]
  },
  {
   "cell_type": "markdown",
   "metadata": {},
   "source": [
    "----"
   ]
  },
  {
   "cell_type": "markdown",
   "metadata": {},
   "source": [
    "<span style=\"color:cyan\">__Análisis de Productos:__</span>"
   ]
  },
  {
   "cell_type": "markdown",
   "metadata": {},
   "source": [
    "<span style=\"color:cyan\">__7.4.A Encuentra y muestra los 5 productos más vendidos.__</span>\n"
   ]
  },
  {
   "cell_type": "code",
   "execution_count": 24,
   "metadata": {},
   "outputs": [
    {
     "name": "stdout",
     "output_type": "stream",
     "text": [
      "Los 5 productos más vendidos son:\n",
      "Producto\n",
      "Laptop      23997\n",
      "Teléfono    14388\n",
      "Servidor    10104\n",
      "Name: Cantidad, dtype: int64\n",
      "En este caso, al agrupar la columna Productos, podemos observar que solo tenemos 3 tipos de productos.\n"
     ]
    }
   ],
   "source": [
    "productos_mas_vendidos = df_ventas.groupby('Producto')['Cantidad'].sum().sort_values(ascending=False).head()\n",
    "print('Los 5 productos más vendidos son:')\n",
    "print(productos_mas_vendidos)\n",
    "print('En este caso, al agrupar la columna Productos, podemos observar que solo tenemos 3 tipos de productos.')"
   ]
  },
  {
   "cell_type": "markdown",
   "metadata": {},
   "source": [
    "-----"
   ]
  },
  {
   "cell_type": "markdown",
   "metadata": {},
   "source": [
    "<span style=\"color:cyan\">__7.4.B Calcula y muestra el ingreso total generado por cada producto.  \n",
    "Crea una nueva columna llamada \"Ingreso_Total\", que representa el ingreso total generado por cada transacción.\n",
    "Luego, agrupa el DataFrame por producto y se calcula la suma del ingreso total para cada producto.\n",
    "Finalmente, muestra el ingreso total generado por cada producto.__</span>"
   ]
  },
  {
   "cell_type": "code",
   "execution_count": 25,
   "metadata": {},
   "outputs": [
    {
     "name": "stdout",
     "output_type": "stream",
     "text": [
      "Ingresos totales por producto:\n"
     ]
    },
    {
     "data": {
      "text/plain": [
       "Producto\n",
       "Laptop      29479672.71\n",
       "Servidor    32161910.88\n",
       "Teléfono    29370010.93\n",
       "Name: Ingreso_Total, dtype: float64"
      ]
     },
     "execution_count": 25,
     "metadata": {},
     "output_type": "execute_result"
    }
   ],
   "source": [
    "df_ventas['Ingreso_Total']= df_ventas['Cantidad'] * df_ventas['Precio_Unitario'].round(2)\n",
    "ingresos_totales_producto = df_ventas.groupby('Producto')['Ingreso_Total'].sum()\n",
    "print('Ingresos totales por producto:')\n",
    "ingresos_totales_producto"
   ]
  },
  {
   "cell_type": "markdown",
   "metadata": {},
   "source": [
    "----"
   ]
  },
  {
   "cell_type": "markdown",
   "metadata": {},
   "source": [
    "<span style=\"color:cyan\">__7.5.A)  Calcula y muestra el mes con el mayor número de transacciones.  \n",
    "Extrae los nombres de los meses a partir de la columna de fechas, cuenta las transacciones para cada mes y encuentra el mes con el mayor número de transacciones.__</span>"
   ]
  },
  {
   "cell_type": "code",
   "execution_count": 26,
   "metadata": {},
   "outputs": [
    {
     "name": "stdout",
     "output_type": "stream",
     "text": [
      "El mes con mayor número de transacciones es January.\n"
     ]
    }
   ],
   "source": [
    "df_ventas['Mes']= df_ventas['Fecha'].dt.month_name()\n",
    "mes_mayor_transacciones = df_ventas.value_counts().idxmax()\n",
    "print(f'El mes con mayor número de transacciones es {mes_mayor_transacciones[7]}.')"
   ]
  },
  {
   "cell_type": "markdown",
   "metadata": {},
   "source": [
    "----"
   ]
  },
  {
   "cell_type": "markdown",
   "metadata": {},
   "source": [
    "<span style=\"color:cyan\">__7.5.B)  Calcula y muestra el mes con el mayor ingreso total.  \n",
    "Agrupa el DataFrame por mes y se calcula la suma del ingreso total para cada mes. Luego, se encuentra el mes con el mayor ingreso total.__</span>"
   ]
  },
  {
   "cell_type": "code",
   "execution_count": 27,
   "metadata": {},
   "outputs": [
    {
     "name": "stdout",
     "output_type": "stream",
     "text": [
      "El mes con el mayor ingreso total es February\n"
     ]
    }
   ],
   "source": [
    "ingreso_total_por_mes = df_ventas.groupby('Mes')['Ingreso_Total'].sum().idxmax()\n",
    "print(f'El mes con el mayor ingreso total es {ingreso_total_por_mes}')"
   ]
  },
  {
   "cell_type": "markdown",
   "metadata": {},
   "source": [
    "----"
   ]
  },
  {
   "cell_type": "markdown",
   "metadata": {},
   "source": [
    "<span style=\"color:cyan\">__Resumen de Ventas:__</span>"
   ]
  },
  {
   "cell_type": "markdown",
   "metadata": {},
   "source": [
    "<span style=\"color:cyan\">__7.6.A)  Calcula y muestra el ingreso total en cada año  \n",
    "Agrupa el DataFrame por año y se calcula la suma del ingreso total para cada año.__</span>"
   ]
  },
  {
   "cell_type": "code",
   "execution_count": 28,
   "metadata": {},
   "outputs": [
    {
     "name": "stdout",
     "output_type": "stream",
     "text": [
      "El año con el mayor ingreso total es 2024\n"
     ]
    }
   ],
   "source": [
    "ingreso_total_por_año = df_ventas.groupby('Año')['Ingreso_Total'].sum().idxmax()\n",
    "print(f'El año con el mayor ingreso total es {ingreso_total_por_año}')"
   ]
  },
  {
   "cell_type": "markdown",
   "metadata": {},
   "source": [
    "----"
   ]
  },
  {
   "cell_type": "markdown",
   "metadata": {},
   "source": [
    "<span style=\"color:cyan\">__7.6.B  Calcula y muestra la cantidad total de productos vendidos en cada año.  \n",
    "Agrupa el DataFrame por año y se calcula la suma de la cantidad de productos vendidos para cada año.__</span>"
   ]
  },
  {
   "cell_type": "code",
   "execution_count": 29,
   "metadata": {},
   "outputs": [
    {
     "name": "stdout",
     "output_type": "stream",
     "text": [
      "La cantidad total de productos vendidos en cada año son:\n"
     ]
    },
    {
     "data": {
      "text/plain": [
       "Año   Producto\n",
       "2024  Laptop      5\n",
       "      Teléfono    3\n",
       "      Servidor    2\n",
       "Name: count, dtype: int64"
      ]
     },
     "execution_count": 29,
     "metadata": {},
     "output_type": "execute_result"
    }
   ],
   "source": [
    "cantidad_productos_vendidos_año = df_ventas.groupby('Año')['Producto'].value_counts()\n",
    "print(f'La cantidad total de productos vendidos en cada año son:')\n",
    "cantidad_productos_vendidos_año"
   ]
  }
 ],
 "metadata": {
  "kernelspec": {
   "display_name": "Python 3",
   "language": "python",
   "name": "python3"
  },
  "language_info": {
   "codemirror_mode": {
    "name": "ipython",
    "version": 3
   },
   "file_extension": ".py",
   "mimetype": "text/x-python",
   "name": "python",
   "nbconvert_exporter": "python",
   "pygments_lexer": "ipython3",
   "version": "3.11.5"
  }
 },
 "nbformat": 4,
 "nbformat_minor": 2
}
